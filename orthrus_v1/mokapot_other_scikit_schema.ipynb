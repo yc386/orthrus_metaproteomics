{
 "cells": [
  {
   "cell_type": "markdown",
   "metadata": {
    "colab_type": "text",
    "id": "view-in-github"
   },
   "source": [
    "<a href=\"https://colab.research.google.com/github/yc386/orthrus_metaproteomics/blob/main/mokapot_other_scikit_schema.ipynb\" target=\"_parent\"><img src=\"https://colab.research.google.com/assets/colab-badge.svg\" alt=\"Open In Colab\"/></a>"
   ]
  },
  {
   "cell_type": "code",
   "execution_count": null,
   "metadata": {
    "id": "xhsU4UVWelIO"
   },
   "outputs": [],
   "source": [
    "#@title install dependencies\n",
    "%%time\n",
    "\n",
    "\n",
    "!pip install mokapot xgboost\n",
    "\n",
    "import mokapot\n",
    "from xgboost import XGBClassifier\n",
    "from sklearn.model_selection import GridSearchCV\n",
    "import numpy as np"
   ]
  },
  {
   "cell_type": "code",
   "execution_count": null,
   "metadata": {
    "id": "mEBcv2KPhntV"
   },
   "outputs": [],
   "source": [
    "#@title an XGBoost example\n",
    "\n",
    "\"\"\"\n",
    "Mokapot can use other scikit-complaint schema. Change grid parameters accordingly and call the model.\n",
    "An example XGBoost schema from Fondrie & Noble 2021) below.\n",
    "\"\"\"\n",
    "\n",
    "# grid parameters\n",
    "grid = {\n",
    "    \"scale_pos_weight\": np.logspace(0, 2, 3),\n",
    "    \"max_depth\": [1, 3, 6],\n",
    "    \"min_child_weight\": [1, 10, 100],\n",
    "    \"gamma\": [0, 1, 10],\n",
    "}\n",
    "# set up the xgb model\n",
    "xgb_mod = GridSearchCV(\n",
    "    XGBClassifier(),\n",
    "    param_grid=grid,\n",
    "    n_jobs=1,\n",
    "    cv=3,\n",
    "    scoring=\"roc_auc\",\n",
    ")\n",
    "\n",
    "# initiate the model for Mokapot\n",
    "mod = mokapot.Model(xgb_mod)\n",
    "\n",
    "path_to_pin = \"\"\n",
    "\n",
    "# read psms from a single .pin file\n",
    "psms = mokapot.read_pin(path_to_pin)\n",
    "\n",
    "# brew mokapot using the xgb model for the psms\n",
    "results, models = mokapot.brew(psms, mod)\n",
    "\n",
    "# output folder for rescored peptides and psms\n",
    "output_folder = \"\"\n",
    "\n",
    "result_files = results.to_txt(output_folder)"
   ]
  }
 ],
 "metadata": {
  "colab": {
   "authorship_tag": "ABX9TyNanorVLINvbEjWrJZVyJZA",
   "include_colab_link": true,
   "provenance": []
  },
  "kernelspec": {
   "display_name": "Python 3",
   "name": "python3"
  },
  "language_info": {
   "name": "python"
  }
 },
 "nbformat": 4,
 "nbformat_minor": 0
}
